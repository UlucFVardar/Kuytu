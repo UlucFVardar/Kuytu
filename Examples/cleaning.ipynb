{
 "cells": [
  {
   "cell_type": "code",
   "execution_count": 1,
   "metadata": {},
   "outputs": [],
   "source": [
    "#!/usr/bin/python2.7\n",
    "# -*- coding: utf-8 -*-\n",
    "from Kuytu.wikiLog import KuytuLog\n",
    "from Kuytu.WikiDumpParser import WikiDumpParser\n",
    "import Kuytu.file_commander as K_fc\n",
    "import Kuytu.Analyzer as Analyzer\n",
    "\n",
    "\n",
    "import json\n",
    "from collections import Counter"
   ]
  },
  {
   "cell_type": "code",
   "execution_count": 2,
   "metadata": {},
   "outputs": [],
   "source": [
    "log = KuytuLog('BlackBoxCode','r')\n",
    "output_path = log.get_output_path()\n",
    "StandartPagesXMLPath = output_path + 'BulkData/withInfoBoxPages_bulkXML.xml'\n",
    "\n",
    "Articles_with_BK = K_fc.read_XML(StandartPagesXMLPath)"
   ]
  },
  {
   "cell_type": "code",
   "execution_count": 3,
   "metadata": {},
   "outputs": [],
   "source": [
    "from Kuytu.article_cleaner_kit import clean_InfoBoxBulk #* # clean_InfoBoxBulk, set_BK_fieldsMaps, get_BK_fieldsMaps\n",
    "\n",
    "for i,a in enumerate(Articles_with_BK):\n",
    "    Articles_with_BK[i].set_infoBox_clean( infoBox_clean = clean_InfoBoxBulk( a.get_infoBoxText()) )    "
   ]
  },
  {
   "cell_type": "code",
   "execution_count": 4,
   "metadata": {},
   "outputs": [],
   "source": [
    "Articles_with_BK_clean =  filter(lambda a: a.get_cleanInfoBox() != None , Articles_with_BK)"
   ]
  },
  {
   "cell_type": "code",
   "execution_count": 5,
   "metadata": {},
   "outputs": [],
   "source": [
    "\n",
    "uniq_types = map(lambda a : a.get_infoBox_type() , Articles_with_BK_clean)\n",
    "c = Counter( uniq_types )\n",
    "uniq_types_histogram = list(c.items())\n",
    "\n",
    "\n",
    "K_fc.save_Graph( output_path = output_path\n",
    "                ,data = uniq_types_histogram\n",
    "                ,min_repetition = 100\n",
    "                ,title = 'Uniq-BK-Types-Hit-Counts-Graph-Clean(>100)' )"
   ]
  },
  {
   "cell_type": "code",
   "execution_count": 6,
   "metadata": {},
   "outputs": [
    {
     "name": "stdout",
     "output_type": "stream",
     "text": [
      "#Articles parsed clean 178376\n"
     ]
    }
   ],
   "source": [
    "print '#Articles parsed clean', len(Articles_with_BK_clean)"
   ]
  },
  {
   "cell_type": "code",
   "execution_count": 7,
   "metadata": {},
   "outputs": [],
   "source": [
    "# Our interested Info Box Types\n",
    "Interested_Info_Box_Types = [ u'Hakem' ,u'Manken' ,u'Makam Sahibi' ,u'Filozof' ,u'Bilim Insanı',u'Güreşçi' \n",
    "                             ,u'Bilim Adamı' ,u'Sporcu' ,u'Buz Patencisi',u'Asker' \n",
    "                             ,u'Voleybolcu' ,u'Sanatçı',u'Futbolcu' ,u'Oyuncu' \n",
    "                             ,u'Müzik Sanatçısı' ,u'Yazar' ,u'Kraliyet' ,u'Tenis Sporcu' ,u'Profesyonel Güreşçi'\n",
    "                             ,u'Kişi' ,u'Basketbolcu']\n",
    "Interested_articles_with_BK_clean =  filter(lambda a: a.get_infoBox_type() in Interested_Info_Box_Types , Articles_with_BK_clean)\n"
   ]
  },
  {
   "cell_type": "code",
   "execution_count": 8,
   "metadata": {},
   "outputs": [
    {
     "name": "stdout",
     "output_type": "stream",
     "text": [
      "#Articles interested categories 53628\n"
     ]
    }
   ],
   "source": [
    "print '#Articles interested categories', len(Interested_articles_with_BK_clean)"
   ]
  },
  {
   "cell_type": "code",
   "execution_count": 9,
   "metadata": {},
   "outputs": [],
   "source": [
    "seperated_interested_articles = Analyzer.seperate_articles_according_to_type(Interested_articles_with_BK_clean)"
   ]
  },
  {
   "cell_type": "code",
   "execution_count": 10,
   "metadata": {},
   "outputs": [],
   "source": [
    "seperated_interested_articles[u\"Bilim Insanı\"] += seperated_interested_articles[u\"Bilim Adamı\"]\n",
    "del seperated_interested_articles[u\"Bilim Adamı\"]"
   ]
  },
  {
   "cell_type": "code",
   "execution_count": 11,
   "metadata": {},
   "outputs": [],
   "source": [
    "map_ = {\n",
    "    u'Manken' :{\n",
    "        \"yer\" : \"doğumyeri\"\n",
    "    },\n",
    "    u'Hakem' : {\n",
    "        \"etkinyıl\" : \"aktifyıl\",\n",
    "        \"yıl\" : \"aktifyıl\",\n",
    "        \"yer\" : \"doğumyeri\"\n",
    "    }\n",
    "}         \n",
    "seperated_interested_articles = Analyzer.datafield_map(map_, seperated_interested_articles)"
   ]
  },
  {
   "cell_type": "code",
   "execution_count": 12,
   "metadata": {},
   "outputs": [],
   "source": [
    "total_count_data, count_data = Analyzer.data_field_counter(seperated_interested_articles)      "
   ]
  },
  {
   "cell_type": "code",
   "execution_count": 13,
   "metadata": {},
   "outputs": [],
   "source": [
    "import Kuytu.Analyzer as Analyzer\n",
    "output_path = log.get_output_path()\n",
    "total_article_count = float(len(Interested_articles_with_BK_clean))\n",
    "subcats_article_counts =  { type_ :float(len(list_)) for type_,list_ in seperated_interested_articles.items()}\n",
    "\n",
    "Analyzer.save_count_data( path = output_path + 'Counts'\n",
    "                        , total_count_data =  total_count_data\n",
    "                        , count_data = count_data\n",
    "                        , total_first_n = 100\n",
    "                        , subcat_first_n = 20\n",
    "                        , total_article_count = total_article_count\n",
    "                        , subcats_article_counts = subcats_article_counts )"
   ]
  },
  {
   "cell_type": "code",
   "execution_count": 14,
   "metadata": {},
   "outputs": [],
   "source": [
    "interested_datafields =  {\n",
    "    u\"Hakem\" :               [\"ad\",\"doğumtarihi\" ,\"turnuva\"    ,\"aktifyıl\",\"doğumyeri\"],\n",
    "    u\"Sporcu\" :              [\"ad\",\"doğumtarihi\" ,\"spor\"       ,\"doğumyeri\",\"ülke\"],\n",
    "    u\"Kraliyet\"  :           [\"ad\",\"doğumtarihi\" ,\"hanedan\"    ,\"hükümsüresi\",\"ölümtarihi\"],\n",
    "    u\"Voleybolcu\" :          [\"ad\",\"doğumtarihi\" ,\"pozisyon\"   ,\"doğumyeri\"],\n",
    "    u\"Manken\" :              [\"ad\",\"doğumtarihi\" ,\"ulus\"       ,\"doğumyeri\"],\n",
    "    u\"Oyuncu\" :              [\"ad\",\"doğumtarihi\" ,\"meslek\"     ,\"yer\",\"ölümtarihi\"],\n",
    "    u\"Asker\" :               [\"ad\",\"doğumtarihi\" ,\"rütbesi\"    ,\"doğumyeri\",\"ölümtarihi\"],\n",
    "    u\"Makam Sahibi\" :        [\"ad\",\"doğumtarihi\" ,\"makam\"      ,\"doğumyeri\"],\n",
    "    u\"Buz Patencisi\" :       [\"ad\",\"doğumtarihi\" ,\"ülke\"       ,\"koç\"],\n",
    "    u\"Profesyonel Güreşçi\" : [\"ad\",\"doğumtarihi\" ,\"doğumyeri\"],\n",
    "    u\"Kişi\" :                [\"ad\",\"doğumtarihi\" ,\"meslek\"     ,\"doğumyeri\",\"ölümtarihi\"],\n",
    "    u\"Futbolcu\" :            [\"ad\",\"doğumyeri\"   ,\"pozisyon\"   ,\"doğumtarihi\"],\n",
    "    u\"Tenis Sporcu\" :        [\"ad\",\"doğumyeri\"   ,\"oyunstili\"  ,\"doğumtarihi\"],\n",
    "    u\"Bilim Insanı\" :        [\"ad\",\"doğumyeri\"   ,\"dalı\"       ,\"doğumtarihi\"],\n",
    "    u\"Filozof\" :             [\"ad\",\"doğumyeri\"   ,\"doğumtarihi\",\"çağ\"],\n",
    "    u\"Basketbolcu\" :         [\"ad\",\"doğumyeri\"   ,\"pozisyon\"   ,\"doğumtarihi\"],\n",
    "    u\"Güreşçi\" :             [\"ad\",\"doğumyeri\"   ,\"doğumtarihi\",\"ölümtarihi\"],\n",
    "    u\"Yazar\" :               [\"ad\",\"doğumyeri\"   ,\"meslek\"     ,\"doğumtarihi\",\"ölümtarihi\"],\n",
    "    u\"Müzik Sanatçısı\":      [\"ad\",\"artalan\"     ,\"tarz\"       ,\"etkinyıllar\",\"meslek\"],\n",
    "    u\"Sanatçı\" :             [\"ad\",\"alanı\"       ,\"ölümtarihi\" ,\"ölümyeri\"]\n",
    "}\n",
    "seperated_interested_articles2 = Analyzer.hold_interested_datafields(interested_datafields, seperated_interested_articles)"
   ]
  },
  {
   "cell_type": "code",
   "execution_count": null,
   "metadata": {},
   "outputs": [],
   "source": []
  },
  {
   "cell_type": "code",
   "execution_count": null,
   "metadata": {},
   "outputs": [],
   "source": []
  },
  {
   "cell_type": "code",
   "execution_count": null,
   "metadata": {},
   "outputs": [],
   "source": []
  },
  {
   "cell_type": "code",
   "execution_count": null,
   "metadata": {},
   "outputs": [],
   "source": []
  },
  {
   "cell_type": "code",
   "execution_count": 15,
   "metadata": {},
   "outputs": [],
   "source": [
    "import xlsxwriter\n",
    "def export_2_excel_for_check(file_name,articles_data,clomuns):\n",
    "    '''\n",
    "        to see the regex result and errors in data\n",
    "    '''\n",
    "    # Create a workbook and add a worksheet.\n",
    "    workbook = xlsxwriter.Workbook(file_name)\n",
    "    for type_ in articles_data.keys():\n",
    "        worksheet = workbook.add_worksheet(type_)\n",
    "        row = 0\n",
    "        mapp_ = {}        \n",
    "        for j,a in enumerate(articles_data[type_]):\n",
    "            col = 0\n",
    "            if j == 0:\n",
    "                for i,key in enumerate(clomuns[type_]):\n",
    "                    mapp_[key] = col+i\n",
    "                    worksheet.write(row, col+i,  key.decode('utf-8')  )\n",
    "                row += 1\n",
    "\n",
    "                \n",
    "            for i,(key,value) in enumerate(a.get_cleanInfoBox().items()):\n",
    "                if value == None:\n",
    "                    continue\n",
    "                col = 0\n",
    "                worksheet.write(row, mapp_[key], value.decode('utf-8'))\n",
    "            \n",
    "            row += 1\n",
    "    workbook.close()"
   ]
  },
  {
   "cell_type": "code",
   "execution_count": 16,
   "metadata": {},
   "outputs": [],
   "source": [
    "export_2_excel_for_check('../dememe.xlsx',seperated_interested_articles2,interested_datafields)"
   ]
  },
  {
   "cell_type": "code",
   "execution_count": 17,
   "metadata": {},
   "outputs": [],
   "source": [
    "a = 'asdasda asdda'"
   ]
  },
  {
   "cell_type": "code",
   "execution_count": 18,
   "metadata": {},
   "outputs": [],
   "source": [
    "a.title()\n",
    "import re"
   ]
  },
  {
   "cell_type": "code",
   "execution_count": 19,
   "metadata": {},
   "outputs": [
    {
     "name": "stdout",
     "output_type": "stream",
     "text": [
      "1947\n"
     ]
    }
   ],
   "source": [
    "orj = '{{Ölüm yılı ve yaşı|1947|1889}}'\n",
    "reg = \"[^\\|]*ve yaşı\\|(\\d*)\\|\\d*\"\n",
    "match = re.search(r\"[^\\|]*ve yaşı\\|(\\d*)\\|\\d*\", orj)\n",
    "print match.group(1)  "
   ]
  },
  {
   "cell_type": "code",
   "execution_count": null,
   "metadata": {},
   "outputs": [],
   "source": []
  },
  {
   "cell_type": "code",
   "execution_count": null,
   "metadata": {},
   "outputs": [],
   "source": []
  },
  {
   "cell_type": "code",
   "execution_count": null,
   "metadata": {},
   "outputs": [],
   "source": []
  },
  {
   "cell_type": "code",
   "execution_count": null,
   "metadata": {},
   "outputs": [],
   "source": []
  },
  {
   "cell_type": "code",
   "execution_count": null,
   "metadata": {},
   "outputs": [],
   "source": []
  },
  {
   "cell_type": "code",
   "execution_count": null,
   "metadata": {},
   "outputs": [],
   "source": []
  },
  {
   "cell_type": "code",
   "execution_count": null,
   "metadata": {},
   "outputs": [],
   "source": []
  },
  {
   "cell_type": "code",
   "execution_count": null,
   "metadata": {},
   "outputs": [],
   "source": []
  },
  {
   "cell_type": "code",
   "execution_count": null,
   "metadata": {},
   "outputs": [],
   "source": []
  },
  {
   "cell_type": "code",
   "execution_count": null,
   "metadata": {},
   "outputs": [],
   "source": []
  },
  {
   "cell_type": "code",
   "execution_count": null,
   "metadata": {},
   "outputs": [],
   "source": []
  },
  {
   "cell_type": "code",
   "execution_count": null,
   "metadata": {},
   "outputs": [],
   "source": []
  }
 ],
 "metadata": {
  "kernelspec": {
   "display_name": "Python 2",
   "language": "python",
   "name": "python2"
  },
  "language_info": {
   "codemirror_mode": {
    "name": "ipython",
    "version": 2
   },
   "file_extension": ".py",
   "mimetype": "text/x-python",
   "name": "python",
   "nbconvert_exporter": "python",
   "pygments_lexer": "ipython2",
   "version": "2.7.3"
  }
 },
 "nbformat": 4,
 "nbformat_minor": 2
}
