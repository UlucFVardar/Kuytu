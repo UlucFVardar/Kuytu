{
 "cells": [
  {
   "cell_type": "code",
   "execution_count": null,
   "metadata": {},
   "outputs": [],
   "source": [
    "#  BU KODLARI KÜTÜPHANENİN OLDUĞU KLASÖRE KOYUP ÇALIŞTIR. DATAYIDA SABAH VERDİM ZATEN SEN ÇÖZERSİN"
   ]
  },
  {
   "cell_type": "code",
   "execution_count": 1,
   "metadata": {},
   "outputs": [
    {
     "ename": "ImportError",
     "evalue": "No module named Kuytu.wikiLog",
     "output_type": "error",
     "traceback": [
      "\u001b[0;31m---------------------------------------------------------------------------\u001b[0m",
      "\u001b[0;31mImportError\u001b[0m                               Traceback (most recent call last)",
      "\u001b[0;32m<ipython-input-1-f32a329c5ecd>\u001b[0m in \u001b[0;36m<module>\u001b[0;34m()\u001b[0m\n\u001b[1;32m      1\u001b[0m \u001b[0;31m#!/usr/bin/python2.7\u001b[0m\u001b[0;34m\u001b[0m\u001b[0;34m\u001b[0m\u001b[0m\n\u001b[1;32m      2\u001b[0m \u001b[0;34m\u001b[0m\u001b[0m\n\u001b[0;32m----> 3\u001b[0;31m \u001b[0;32mfrom\u001b[0m \u001b[0mKuytu\u001b[0m\u001b[0;34m.\u001b[0m\u001b[0mwikiLog\u001b[0m \u001b[0;32mimport\u001b[0m \u001b[0mKuytuLog\u001b[0m\u001b[0;34m\u001b[0m\u001b[0m\n\u001b[0m\u001b[1;32m      4\u001b[0m \u001b[0;32mfrom\u001b[0m \u001b[0mKuytu\u001b[0m\u001b[0;34m.\u001b[0m\u001b[0mWikiDumpParser\u001b[0m \u001b[0;32mimport\u001b[0m \u001b[0mWikiDumpParser\u001b[0m\u001b[0;34m\u001b[0m\u001b[0m\n\u001b[1;32m      5\u001b[0m \u001b[0;32mimport\u001b[0m \u001b[0mKuytu\u001b[0m\u001b[0;34m.\u001b[0m\u001b[0mfile_commander\u001b[0m \u001b[0;32mas\u001b[0m \u001b[0mK_fc\u001b[0m\u001b[0;34m\u001b[0m\u001b[0m\n",
      "\u001b[0;31mImportError\u001b[0m: No module named Kuytu.wikiLog"
     ]
    }
   ],
   "source": [
    "#!/usr/bin/python2.7\n",
    "# -*- coding: utf-8 -*-\n",
    "from Kuytu.wikiLog import KuytuLog\n",
    "from Kuytu.WikiDumpParser import WikiDumpParser\n",
    "import Kuytu.file_commander as K_fc\n",
    "import Kuytu.Analyzer as Analyzer\n",
    "\n",
    "\n",
    "import json\n",
    "from collections import Counter"
   ]
  },
  {
   "cell_type": "code",
   "execution_count": null,
   "metadata": {},
   "outputs": [],
   "source": [
    "log = KuytuLog('BlackBoxCode','r')\n",
    "output_path = log.get_output_path()\n",
    "StandartPagesXMLPath = output_path + 'BulkData/withInfoBoxPages_bulkXML.xml'\n",
    "\n",
    "Articles_with_BK = K_fc.read_XML(StandartPagesXMLPath)"
   ]
  },
  {
   "cell_type": "code",
   "execution_count": null,
   "metadata": {},
   "outputs": [],
   "source": [
    "for i,article in enumerate(Articles_with_BK):\n",
    "    paragraphs_of_article  = article.get_bulkParagraphs()\n",
    "    ## clean them\n",
    "    ##    burayı yaz reis\n",
    "    ##\n",
    "    #clean_paragraphs\n",
    "    Articles_with_BK[i].set_cleanParagraphs(clean_paragraphs)"
   ]
  },
  {
   "cell_type": "code",
   "execution_count": null,
   "metadata": {},
   "outputs": [],
   "source": [
    "for i,article in enumerate(Articles_with_BK):\n",
    "    first_paragraph_of_article  = article.get_bulkParagraphs()[0]\n",
    "    ##\n",
    "    ## seperate sentences   burayı yaz reis\n",
    "    ##\n",
    "    #list_of_sentences\n",
    "    Articles_with_BK[i].set_sentences(list_of_sentences)"
   ]
  },
  {
   "cell_type": "code",
   "execution_count": null,
   "metadata": {},
   "outputs": [],
   "source": []
  },
  {
   "cell_type": "code",
   "execution_count": null,
   "metadata": {},
   "outputs": [],
   "source": []
  },
  {
   "cell_type": "code",
   "execution_count": null,
   "metadata": {},
   "outputs": [],
   "source": []
  },
  {
   "cell_type": "code",
   "execution_count": null,
   "metadata": {},
   "outputs": [],
   "source": []
  }
 ],
 "metadata": {
  "kernelspec": {
   "display_name": "Python 2",
   "language": "python",
   "name": "python2"
  },
  "language_info": {
   "codemirror_mode": {
    "name": "ipython",
    "version": 2
   },
   "file_extension": ".py",
   "mimetype": "text/x-python",
   "name": "python",
   "nbconvert_exporter": "python",
   "pygments_lexer": "ipython2",
   "version": "2.7.3"
  }
 },
 "nbformat": 4,
 "nbformat_minor": 2
}
