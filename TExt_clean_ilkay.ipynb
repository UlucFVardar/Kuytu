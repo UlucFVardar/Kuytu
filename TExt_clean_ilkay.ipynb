{
 "cells": [
  {
   "cell_type": "code",
   "execution_count": null,
   "metadata": {},
   "outputs": [],
   "source": [
    "#  BU KODLARI KÜTÜPHANENİN OLDUĞU KLASÖRE KOYUP ÇALIŞTIR. DATAYIDA SABAH VERDİM ZATEN SEN ÇÖZERSİN"
   ]
  },
  {
   "cell_type": "code",
   "execution_count": 7,
   "metadata": {},
   "outputs": [],
   "source": [
    "#!/usr/bin/python2.7\n",
    "# -*- coding: utf-8 -*-\n",
    "from Kuytu.wikiLog import KuytuLog\n",
    "from Kuytu.WikiDumpParser import WikiDumpParser\n",
    "import Kuytu.file_commander as K_fc\n",
    "import Kuytu.Analyzer as Analyzer\n",
    "\n",
    "\n",
    "import json\n",
    "from collections import Counter\n",
    "import re\n",
    "import time"
   ]
  },
  {
   "cell_type": "code",
   "execution_count": 3,
   "metadata": {},
   "outputs": [],
   "source": [
    "log = KuytuLog('BlackBoxCode','r')\n",
    "output_path = log.get_output_path()\n",
    "StandartPagesXMLPath = output_path + 'BulkData/withInfoBoxPages_bulkXML.xml'\n",
    "\n",
    "Articles_with_BK = K_fc.read_XML(StandartPagesXMLPath)"
   ]
  },
  {
   "cell_type": "code",
   "execution_count": 10,
   "metadata": {},
   "outputs": [],
   "source": [
    "def process_bulk_text(text):\n",
    "    \n",
    "    def clean_dosya( data):\n",
    "        try:\n",
    "            return re.sub(r\"\\[\\[Dosya.*\\]\\]\",\"\",data)\n",
    "        except:\n",
    "            return data\n",
    "        \n",
    "    def clean_pipes_in_double_square_brackets( data):\n",
    "        try:\n",
    "            return re.sub(r\"\\[\\[[^\\[\\{]*\\|\",\"\",data).replace('[','').replace(']','')\n",
    "        except:\n",
    "            return data.replace(']','').replace('[','')\n",
    "        \n",
    "    def clean_tags_regex(data):\n",
    "        try:\n",
    "            data = re.sub(r\"((<br />.*?<br />|<br />)|(<br>.*?<br>|<br>))\",\"\",data)\n",
    "        except:\n",
    "            pass\n",
    "        try:\n",
    "            return re.sub(r\"<.*?>.*</.*?>|<.*?</.*?>\",\"\",data)\n",
    "        except:\n",
    "            return data\n",
    "        \n",
    "    def clean_double_curly_brackets(data):\n",
    "        try:\n",
    "            # This comment is just for backup\n",
    "            # old version of regex \\(({{.*?(.|\\s).*?}})\\)|({{.*?(.|\\s).*?}})\n",
    "            return re.sub(r\"\\(({{.*?(.|\\s).*?}};|{{.*?(.|\\s).*?}})\\)|({{.*?(.|\\s).*?}};|{{.*?(.|\\s).*?}})\",\"\",data) \n",
    "        except:\n",
    "            return data\n",
    "    \n",
    "    def clean_triple_quoates(data):\n",
    "        try:\n",
    "            return data.replace(\"'''\",'').replace(\"''\",'').replace('\"','')\n",
    "        except:\n",
    "            return data\n",
    "    \n",
    "    def clean_stars(data):\n",
    "        try:\n",
    "            return data.replace(\"*\",\"\")\n",
    "        except:\n",
    "            return data\n",
    "\n",
    "    text = clean_dosya(text) # delete '[[Dosya.*]]'\n",
    "    text = clean_tags_regex(text) # delete <.*?>.*?</.*?> TAGS\n",
    "    text = clean_pipes_in_double_square_brackets(text) # [[ <remove this> | <hold this one> ]] \n",
    "    text = clean_double_curly_brackets(text) # delete {{...}} double curly brackets\n",
    "    # clean_round_brackets_except_with_birth_and_death\n",
    "    text = clean_triple_quoates(text) # remove ' \"\"\" ' and  \" ''' \" in sentence\n",
    "    text = clean_stars(text) # delete '*' stars in text\n",
    "    \n",
    "    if text == '':\n",
    "        return None\n",
    "    \n",
    "    return text"
   ]
  },
  {
   "cell_type": "code",
   "execution_count": 9,
   "metadata": {
    "scrolled": false
   },
   "outputs": [
    {
     "name": "stdout",
     "output_type": "stream",
     "text": [
      "1354\n",
      "182.392987967\n"
     ]
    }
   ],
   "source": [
    "counter = 0\n",
    "start_time = time.time()\n",
    "with open(\"test.txt\",\"w+\") as f:\n",
    "    for i,article in enumerate(Articles_with_BK):\n",
    "        paragraphs_of_article  = article.get_bulkParagraphs()\n",
    "        \n",
    "        if len(paragraphs_of_article) > 0:\n",
    "            for paragraph in paragraphs_of_article:\n",
    "                f.write(\"Original:\"+\"-\"*20+\"\\n\")\n",
    "                f.write(paragraph.encode('utf-8').decode('utf-8').encode('utf-8')+\"\\n\") # Delete Completely\n",
    "                f.write(\"Cleaned:\\n\")\n",
    "                f.write(process_bulk_text(paragraph).encode('utf-8').decode('utf-8').encode('utf-8')+\"\\n\") # Delete only print \n",
    "                f.write(\"-\"*20+\"\\n\\n\") # Delete Completely\n",
    "                \n",
    "                if process_bulk_text(paragraph).encode('utf-8').decode('utf-8').encode('utf-8') == None:\n",
    "                    break\n",
    "            f.write(\"*\"*20+\"\\n\\n\") # Delete Completely\n",
    "        else:\n",
    "            counter +=1\n",
    "            #print(\"Empty list!\\n\\n\")\n",
    "    f.close()\n",
    "print (counter)\n",
    "duration = time.time() - start_time\n",
    "print(duration)\n",
    "    \n",
    "    ## clean them\n",
    "    ##    burayı yaz reis\n",
    "    ##\n",
    "    #clean_paragraphs\n",
    "    #Articles_with_BK[i].set_cleanParagraphs(clean_paragraphs)"
   ]
  },
  {
   "cell_type": "code",
   "execution_count": null,
   "metadata": {},
   "outputs": [],
   "source": [
    "for i,article in enumerate(Articles_with_BK):\n",
    "    first_paragraph_of_article  = article.get_bulkParagraphs()[0]\n",
    "    ##\n",
    "    ## seperate sentences   burayı yaz reis\n",
    "    ##\n",
    "    #list_of_sentences\n",
    "    Articles_with_BK[i].set_sentences(list_of_sentences)"
   ]
  },
  {
   "cell_type": "code",
   "execution_count": null,
   "metadata": {},
   "outputs": [],
   "source": []
  },
  {
   "cell_type": "code",
   "execution_count": null,
   "metadata": {},
   "outputs": [],
   "source": []
  },
  {
   "cell_type": "code",
   "execution_count": null,
   "metadata": {},
   "outputs": [],
   "source": []
  }
 ],
 "metadata": {
  "kernelspec": {
   "display_name": "Python 2",
   "language": "python",
   "name": "python2"
  },
  "language_info": {
   "codemirror_mode": {
    "name": "ipython",
    "version": 2
   },
   "file_extension": ".py",
   "mimetype": "text/x-python",
   "name": "python",
   "nbconvert_exporter": "python",
   "pygments_lexer": "ipython2",
   "version": "2.7.10"
  }
 },
 "nbformat": 4,
 "nbformat_minor": 2
}
