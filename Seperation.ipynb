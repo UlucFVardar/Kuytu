{
 "cells": [
  {
   "cell_type": "markdown",
   "metadata": {},
   "source": [
    "### Need Lib for Next Instractions"
   ]
  },
  {
   "cell_type": "code",
   "execution_count": 1,
   "metadata": {},
   "outputs": [],
   "source": [
    "#!/usr/bin/python2.7\n",
    "# -*- coding: utf-8 -*-\n",
    "from Kuytu.wikiLog import KuytuLog\n",
    "from Kuytu.WikiDumpParser import WikiDumpParser\n",
    "import Kuytu.file_commander as K_fc\n",
    "\n",
    "import json"
   ]
  },
  {
   "cell_type": "markdown",
   "metadata": {},
   "source": [
    "##### Create custom Log from Kuytu"
   ]
  },
  {
   "cell_type": "code",
   "execution_count": 2,
   "metadata": {},
   "outputs": [],
   "source": [
    "log = KuytuLog('BlackBoxCode')"
   ]
  },
  {
   "cell_type": "markdown",
   "metadata": {},
   "source": [
    "---"
   ]
  },
  {
   "cell_type": "markdown",
   "metadata": {},
   "source": [
    "## SEPERATION Starts"
   ]
  },
  {
   "cell_type": "markdown",
   "metadata": {},
   "source": [
    "##### Giving Wiki-Dump XML path wait for seperation"
   ]
  },
  {
   "cell_type": "code",
   "execution_count": 3,
   "metadata": {},
   "outputs": [
    {
     "name": "stdout",
     "output_type": "stream",
     "text": [
      "----------WIKI DUMP XML GETTING MEMORY----------\n",
      "--------------WIKI DUMP PARSE START-------------\n"
     ]
    }
   ],
   "source": [
    "# ----------- WIKI DUMP XML PARSE ------------------------------- Execution ----\n",
    "# XML Getting Memory\n",
    "print '-'*10 + 'WIKI DUMP XML GETTING MEMORY' + '-'*10 \n",
    "#wdp = WikiDumpParser('./Data/wikidump.xml')\n",
    "wdp = WikiDumpParser('./Data/part.xml') # A Part of The Orjinal WIKI-DUMP Data\n",
    "\n",
    "# Starting to parse all page in XML file\n",
    "print '-'*14 + 'WIKI DUMP PARSE START' + '-'*13\n",
    "wdp.extract_pages(StoreAllText = False, NumberofParagraph = 2 )\n",
    "# ------------------------------------------------------------------------------"
   ]
  },
  {
   "cell_type": "markdown",
   "metadata": {},
   "source": [
    "##### After Seperation saving Seperation Log to our 'Kuytu_log' file"
   ]
  },
  {
   "cell_type": "code",
   "execution_count": 4,
   "metadata": {},
   "outputs": [],
   "source": [
    "# ----------- WIKI DUMP XML PARSE -------------- Save Log Info (of execution)---\n",
    "# non_article_count, no_infoBox_count, error_count, number_of_total_article, number_of_article_has_infoBox\n",
    "log.save_log('WIKI DUMP PARSE - RESULT', json.dumps(wdp.getLog(),indent=4,ensure_ascii=False, encoding='utf8') )\n",
    "# ------------------------------------------------------------------------------"
   ]
  },
  {
   "cell_type": "markdown",
   "metadata": {},
   "source": [
    "##### Take the  [Uniq Info Box Type - Hit Count] data and Graph it"
   ]
  },
  {
   "cell_type": "code",
   "execution_count": 5,
   "metadata": {},
   "outputs": [],
   "source": [
    "# ----------- WIKI DUMP XML PARSE -------------- Save Uniq InfoBoxCounts (B.K.)-\n",
    "output_path = log.get_output_path()\n",
    "#print json.dumps( wdp.get_uniqInfoBoxTypes(),indent=4,ensure_ascii=False, encoding='utf8')\n",
    "K_fc.save_Uniq_InfoBoxTypes( output_path + '/Uniq-BK-Types-Hit-Counts.txt', wdp.get_uniqInfoBoxTypes() )\n",
    "K_fc.save_Graph( output_path = output_path\n",
    "                ,data = wdp.get_uniqInfoBoxTypes()\n",
    "                ,min_repetition = 100\n",
    "                ,title = 'Uniq-BK-Types-Hit-Counts-Graph(>100)' )\n",
    "log.logging('Uniq-BK-Types-Hit-Counts-Graph(>100) Saved')\n",
    "# ------------------------------------------------------------------------------"
   ]
  },
  {
   "cell_type": "markdown",
   "metadata": {},
   "source": [
    "##### Save The Seperated Pages in 3 Group\n",
    "    -> Template of the returnin valu of wdp.get_all_articles()\n",
    "    { \n",
    "        \"withInfoBox_articles_list\" \t: [....articleObject...],\n",
    "        \"withOUTInfoBox_articles_list\"  : [..(article_XML_TEXT,Article_Title,Article_Id)..],\n",
    "        \"NonStandart_articles_list\" \t: [..article_XML_TEXT..]\n",
    "    }"
   ]
  },
  {
   "cell_type": "code",
   "execution_count": 6,
   "metadata": {},
   "outputs": [
    {
     "name": "stdout",
     "output_type": "stream",
     "text": [
      "!--    330 Article Saved Successfully -- FileName(withOUTInfoBoxPages_bulkXML.xml)----------!\n",
      "!--     30 Article Saved Successfully -- FileName(   withInfoBoxPages_bulkXML.xml)----------!\n",
      "!----------  There is no Page to Save -- FileName(   NonStandartPages_bulkXML.xml)----------!\n"
     ]
    }
   ],
   "source": [
    "# ----------- WIKI DUMP XML PARSE ----------------------- Save Article Pages ---\n",
    "allArticles = wdp.get_all_articles()\n",
    "\n",
    "\n",
    "# Pages WithOut InfoBox \n",
    "withOUTInfoBoxPagesXMLPath = output_path + 'BulkData/withOUTInfoBoxPages_bulkXML.xml'\n",
    "withOUTInfoBoxPagesIndexPath = output_path + 'BulkData/withOUTInfoBoxPages_bulkXML_index.txt'\n",
    "l1 = K_fc.save_XML(withOUTInfoBoxPagesXMLPath, withOUTInfoBoxPagesIndexPath, allArticles['withOUTInfoBox_articles_list'] )\n",
    "\n",
    "# Pages With InfoBox \n",
    "StandartPagesXMLPath = output_path + 'BulkData/withInfoBoxPages_bulkXML.xml'\n",
    "StandartPagesIndexPath = output_path + 'BulkData/withInfoBoxPages_bulkXML_index.txt'\n",
    "l2 = K_fc.save_XML(StandartPagesXMLPath, StandartPagesIndexPath, allArticles['withInfoBox_articles_list'] )\n",
    "\n",
    "# Pages - NonStandart\n",
    "nonStandartPagesXMLPath = output_path + 'BulkData/NonStandartPages_bulkXML.xml'\n",
    "nonStandartPagesIndexPath = output_path + 'BulkData/NonStandartPages_bulkXML_index.txt'\n",
    "l3 = K_fc.save_XML(nonStandartPagesXMLPath, nonStandartPagesIndexPath, allArticles['NonStandart_articles_list'] )\n",
    "\n",
    "log.logging([l1,l2,l3])  ## Save '.save_XML' log.\n",
    "# ------------------------------------------------------------------------------"
   ]
  },
  {
   "cell_type": "markdown",
   "metadata": {},
   "source": [
    "---\n",
    "### First part of the Wiki Full Extraction is finished\n",
    "\n",
    "#### The Outputs are ;\n",
    "![alttext](https://raw.githubusercontent.com/UlucFVardar/Kuytu/master/Examples/Output_of_seperation.png)\n",
    "\n",
    "\n",
    "\n"
   ]
  },
  {
   "cell_type": "code",
   "execution_count": null,
   "metadata": {},
   "outputs": [],
   "source": []
  },
  {
   "cell_type": "code",
   "execution_count": null,
   "metadata": {},
   "outputs": [],
   "source": []
  },
  {
   "cell_type": "code",
   "execution_count": null,
   "metadata": {},
   "outputs": [],
   "source": []
  },
  {
   "cell_type": "code",
   "execution_count": null,
   "metadata": {},
   "outputs": [],
   "source": []
  }
 ],
 "metadata": {
  "kernelspec": {
   "display_name": "Python 2",
   "language": "python",
   "name": "python2"
  },
  "language_info": {
   "codemirror_mode": {
    "name": "ipython",
    "version": 2
   },
   "file_extension": ".py",
   "mimetype": "text/x-python",
   "name": "python",
   "nbconvert_exporter": "python",
   "pygments_lexer": "ipython2",
   "version": "2.7.15"
  }
 },
 "nbformat": 4,
 "nbformat_minor": 2
}
